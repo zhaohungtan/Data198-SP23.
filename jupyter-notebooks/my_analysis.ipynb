{
 "cells": [
  {
   "cell_type": "markdown",
   "id": "1ac86fef-8196-46df-b848-98b80b596310",
   "metadata": {},
   "source": [
    "HW0 [Data 198]"
   ]
  },
  {
   "cell_type": "code",
   "execution_count": 34,
   "id": "51b6d729-c1cc-4782-b522-5c98fb702781",
   "metadata": {},
   "outputs": [],
   "source": [
    "import numpy as np\n",
    "import pandas as pd\n",
    "import matplotlib.pyplot as plt\n",
    "import os"
   ]
  },
  {
   "cell_type": "code",
   "execution_count": 42,
   "id": "43c25e30-0c93-47bb-9b51-8af1077b5fbe",
   "metadata": {},
   "outputs": [],
   "source": [
    "df = pd.read_csv(\"/Users/danhwang/data198-sp23/Data198-SP23./data/Mexico.csv\")"
   ]
  }
 ],
 "metadata": {
  "kernelspec": {
   "display_name": "Python 3 (ipykernel)",
   "language": "python",
   "name": "python3"
  },
  "language_info": {
   "codemirror_mode": {
    "name": "ipython",
    "version": 3
   },
   "file_extension": ".py",
   "mimetype": "text/x-python",
   "name": "python",
   "nbconvert_exporter": "python",
   "pygments_lexer": "ipython3",
   "version": "3.9.12"
  }
 },
 "nbformat": 4,
 "nbformat_minor": 5
}
